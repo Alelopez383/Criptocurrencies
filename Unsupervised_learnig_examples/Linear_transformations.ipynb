{
 "cells": [
  {
   "cell_type": "markdown",
   "id": "02363747",
   "metadata": {},
   "source": [
    "# Linear transformations\n",
    "\n",
    "- link: https://en.wikipedia.org/wiki/Eigenvalues_and_eigenvectors\n",
    "- watch video: https://www.youtube.com/watch?v=PFDu9oVAE-g"
   ]
  },
  {
   "cell_type": "code",
   "execution_count": null,
   "id": "71a0a3f9",
   "metadata": {},
   "outputs": [],
   "source": []
  }
 ],
 "metadata": {
  "kernelspec": {
   "display_name": "mlenv",
   "language": "python",
   "name": "mlenv"
  },
  "language_info": {
   "codemirror_mode": {
    "name": "ipython",
    "version": 3
   },
   "file_extension": ".py",
   "mimetype": "text/x-python",
   "name": "python",
   "nbconvert_exporter": "python",
   "pygments_lexer": "ipython3",
   "version": "3.7.15"
  }
 },
 "nbformat": 4,
 "nbformat_minor": 5
}
