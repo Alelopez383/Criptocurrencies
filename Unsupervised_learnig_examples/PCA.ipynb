{
 "cells": [
  {
   "cell_type": "markdown",
   "id": "5871a225",
   "metadata": {},
   "source": [
    "# Principal Component Analysis"
   ]
  },
  {
   "cell_type": "code",
   "execution_count": 2,
   "id": "f403dece",
   "metadata": {},
   "outputs": [],
   "source": [
    "# Import dependencies\n",
    "import pandas as pd\n",
    "from sklearn.preprocessing import StandardScaler\n",
    "from sklearn.decomposition import PCA\n",
    "from sklearn.cluster import KMeans\n",
    "import hvplot.pandas"
   ]
  },
  {
   "cell_type": "code",
   "execution_count": 4,
   "id": "7af4383e",
   "metadata": {},
   "outputs": [
    {
     "data": {
      "text/html": [
       "<div>\n",
       "<style scoped>\n",
       "    .dataframe tbody tr th:only-of-type {\n",
       "        vertical-align: middle;\n",
       "    }\n",
       "\n",
       "    .dataframe tbody tr th {\n",
       "        vertical-align: top;\n",
       "    }\n",
       "\n",
       "    .dataframe thead th {\n",
       "        text-align: right;\n",
       "    }\n",
       "</style>\n",
       "<table border=\"1\" class=\"dataframe\">\n",
       "  <thead>\n",
       "    <tr style=\"text-align: right;\">\n",
       "      <th></th>\n",
       "      <th>sepal_length</th>\n",
       "      <th>petal_length</th>\n",
       "      <th>sepal_width</th>\n",
       "      <th>petal_width</th>\n",
       "    </tr>\n",
       "  </thead>\n",
       "  <tbody>\n",
       "    <tr>\n",
       "      <th>0</th>\n",
       "      <td>5.1</td>\n",
       "      <td>1.4</td>\n",
       "      <td>3.5</td>\n",
       "      <td>0.2</td>\n",
       "    </tr>\n",
       "    <tr>\n",
       "      <th>1</th>\n",
       "      <td>4.9</td>\n",
       "      <td>1.4</td>\n",
       "      <td>3.0</td>\n",
       "      <td>0.2</td>\n",
       "    </tr>\n",
       "    <tr>\n",
       "      <th>2</th>\n",
       "      <td>4.7</td>\n",
       "      <td>1.3</td>\n",
       "      <td>3.2</td>\n",
       "      <td>0.2</td>\n",
       "    </tr>\n",
       "    <tr>\n",
       "      <th>3</th>\n",
       "      <td>4.6</td>\n",
       "      <td>1.5</td>\n",
       "      <td>3.1</td>\n",
       "      <td>0.2</td>\n",
       "    </tr>\n",
       "    <tr>\n",
       "      <th>4</th>\n",
       "      <td>5.0</td>\n",
       "      <td>1.4</td>\n",
       "      <td>3.6</td>\n",
       "      <td>0.2</td>\n",
       "    </tr>\n",
       "  </tbody>\n",
       "</table>\n",
       "</div>"
      ],
      "text/plain": [
       "   sepal_length  petal_length  sepal_width  petal_width\n",
       "0           5.1           1.4          3.5          0.2\n",
       "1           4.9           1.4          3.0          0.2\n",
       "2           4.7           1.3          3.2          0.2\n",
       "3           4.6           1.5          3.1          0.2\n",
       "4           5.0           1.4          3.6          0.2"
      ]
     },
     "execution_count": 4,
     "metadata": {},
     "output_type": "execute_result"
    }
   ],
   "source": [
    "# Loading data\n",
    "file_path = \"new_iris_data.csv\"\n",
    "df_iris = pd.read_csv(file_path)\n",
    "df_iris.head()"
   ]
  },
  {
   "cell_type": "markdown",
   "id": "20b728af",
   "metadata": {},
   "source": [
    "- There are four features in this dataset with values on different scales. \n",
    "- The first step in PCA is to standardize these features by using the StandardScaler library"
   ]
  },
  {
   "cell_type": "code",
   "execution_count": 6,
   "id": "ba472626",
   "metadata": {},
   "outputs": [
    {
     "name": "stdout",
     "output_type": "stream",
     "text": [
      "[[-0.90068117 -1.3412724   1.03205722 -1.31297673]\n",
      " [-1.14301691 -1.3412724  -0.1249576  -1.31297673]\n",
      " [-1.38535265 -1.39813811  0.33784833 -1.31297673]\n",
      " [-1.50652052 -1.2844067   0.10644536 -1.31297673]\n",
      " [-1.02184904 -1.3412724   1.26346019 -1.31297673]]\n"
     ]
    }
   ],
   "source": [
    "# Standarized data with StandarScaler\n",
    "iris_scaled = StandardScaler().fit_transform(df_iris)\n",
    "print(iris_scaled[0:5])"
   ]
  },
  {
   "cell_type": "markdown",
   "id": "d75412af",
   "metadata": {},
   "source": [
    "- Now that the data has been standardized, we can use PCA to reduce the number of features. \n",
    "- The PCA method takes an argument of n_components, which will pass in the value of 2, thus reducing the features from 4 to 2"
   ]
  },
  {
   "cell_type": "code",
   "execution_count": 7,
   "id": "d084d27c",
   "metadata": {},
   "outputs": [],
   "source": [
    "# Initialize PCA model\n",
    "pca = PCA(n_components=2)"
   ]
  },
  {
   "cell_type": "markdown",
   "id": "c09334ab",
   "metadata": {},
   "source": [
    "- After creating the PCA model, we apply dimensionality reduction on the scaled dataset:"
   ]
  },
  {
   "cell_type": "code",
   "execution_count": 8,
   "id": "c4c4ac26",
   "metadata": {},
   "outputs": [],
   "source": [
    "# Get two principal components for the iris data.\n",
    "iris_pca = pca.fit_transform(iris_scaled)"
   ]
  },
  {
   "cell_type": "markdown",
   "id": "e07eb5fe",
   "metadata": {},
   "source": [
    "- After this dimensionality reduction, we get a smaller set of dimensions called principal components. These new components are just the two main dimensions of variation that contain most of the information in the original dataset.\n",
    "\n",
    "- The resulting principal components are transformed into a DataFrame to fit K-means"
   ]
  },
  {
   "cell_type": "code",
   "execution_count": 18,
   "id": "ecf9381a",
   "metadata": {},
   "outputs": [
    {
     "data": {
      "text/html": [
       "<div>\n",
       "<style scoped>\n",
       "    .dataframe tbody tr th:only-of-type {\n",
       "        vertical-align: middle;\n",
       "    }\n",
       "\n",
       "    .dataframe tbody tr th {\n",
       "        vertical-align: top;\n",
       "    }\n",
       "\n",
       "    .dataframe thead th {\n",
       "        text-align: right;\n",
       "    }\n",
       "</style>\n",
       "<table border=\"1\" class=\"dataframe\">\n",
       "  <thead>\n",
       "    <tr style=\"text-align: right;\">\n",
       "      <th></th>\n",
       "      <th>0</th>\n",
       "      <th>1</th>\n",
       "    </tr>\n",
       "  </thead>\n",
       "  <tbody>\n",
       "    <tr>\n",
       "      <th>0</th>\n",
       "      <td>-2.264542</td>\n",
       "      <td>0.505704</td>\n",
       "    </tr>\n",
       "    <tr>\n",
       "      <th>1</th>\n",
       "      <td>-2.086426</td>\n",
       "      <td>-0.655405</td>\n",
       "    </tr>\n",
       "    <tr>\n",
       "      <th>2</th>\n",
       "      <td>-2.367950</td>\n",
       "      <td>-0.318477</td>\n",
       "    </tr>\n",
       "    <tr>\n",
       "      <th>3</th>\n",
       "      <td>-2.304197</td>\n",
       "      <td>-0.575368</td>\n",
       "    </tr>\n",
       "    <tr>\n",
       "      <th>4</th>\n",
       "      <td>-2.388777</td>\n",
       "      <td>0.674767</td>\n",
       "    </tr>\n",
       "  </tbody>\n",
       "</table>\n",
       "</div>"
      ],
      "text/plain": [
       "          0         1\n",
       "0 -2.264542  0.505704\n",
       "1 -2.086426 -0.655405\n",
       "2 -2.367950 -0.318477\n",
       "3 -2.304197 -0.575368\n",
       "4 -2.388777  0.674767"
      ]
     },
     "execution_count": 18,
     "metadata": {},
     "output_type": "execute_result"
    }
   ],
   "source": [
    "# Transform PCA data ti a DataFrame\n",
    "df_iris_pca= pd.DataFrame(data= iris_pca)\n",
    "df_iris_pca.head()"
   ]
  },
  {
   "cell_type": "markdown",
   "id": "ee904a00",
   "metadata": {},
   "source": [
    "- column 0 = principal component 1\n",
    "- column 1= principal component 2"
   ]
  },
  {
   "cell_type": "code",
   "execution_count": 19,
   "id": "588a55bc",
   "metadata": {},
   "outputs": [
    {
     "data": {
      "text/plain": [
       "array([0.72770452, 0.23030523])"
      ]
     },
     "execution_count": 19,
     "metadata": {},
     "output_type": "execute_result"
    }
   ],
   "source": [
    "#Use explained_variance_ratio to learn how much information can be attributed to each principal component\n",
    "#Fetch the explained variance\n",
    "pca.explained_variance_ratio_"
   ]
  },
  {
   "cell_type": "markdown",
   "id": "bb469e12",
   "metadata": {},
   "source": [
    "### What this tells us?\n",
    "- the first principal component contains 72.77% of the variance\n",
    "- the second contains 23.03%. \n",
    "- Together, they contain 95.80% of the information."
   ]
  },
  {
   "cell_type": "markdown",
   "id": "aec64fb8",
   "metadata": {},
   "source": [
    "### Use the elbow curve with the generated principal components and see the K value is 3"
   ]
  },
  {
   "cell_type": "code",
   "execution_count": 20,
   "id": "bf6fbfd0",
   "metadata": {},
   "outputs": [
    {
     "name": "stderr",
     "output_type": "stream",
     "text": [
      "C:\\Users\\alelo\\anaconda3\\envs\\mlenv\\lib\\site-packages\\sklearn\\cluster\\_kmeans.py:1037: UserWarning: KMeans is known to have a memory leak on Windows with MKL, when there are less chunks than available threads. You can avoid it by setting the environment variable OMP_NUM_THREADS=1.\n",
      "  \"KMeans is known to have a memory leak on Windows \"\n"
     ]
    },
    {
     "data": {},
     "metadata": {},
     "output_type": "display_data"
    },
    {
     "data": {
      "application/vnd.holoviews_exec.v0+json": "",
      "text/html": [
       "<div id='1002'>\n",
       "  <div class=\"bk-root\" id=\"d23437d0-5e81-4a45-bb0c-48ebdc93c1cd\" data-root-id=\"1002\"></div>\n",
       "</div>\n",
       "<script type=\"application/javascript\">(function(root) {\n",
       "  function embed_document(root) {\n",
       "    var docs_json = {\"3845518c-455a-42a4-9927-0e62000b0ea4\":{\"defs\":[{\"extends\":null,\"module\":null,\"name\":\"ReactiveHTML1\",\"overrides\":[],\"properties\":[]},{\"extends\":null,\"module\":null,\"name\":\"FlexBox1\",\"overrides\":[],\"properties\":[{\"default\":\"flex-start\",\"kind\":null,\"name\":\"align_content\"},{\"default\":\"flex-start\",\"kind\":null,\"name\":\"align_items\"},{\"default\":\"row\",\"kind\":null,\"name\":\"flex_direction\"},{\"default\":\"wrap\",\"kind\":null,\"name\":\"flex_wrap\"},{\"default\":\"flex-start\",\"kind\":null,\"name\":\"justify_content\"}]},{\"extends\":null,\"module\":null,\"name\":\"GridStack1\",\"overrides\":[],\"properties\":[{\"default\":\"warn\",\"kind\":null,\"name\":\"mode\"},{\"default\":null,\"kind\":null,\"name\":\"ncols\"},{\"default\":null,\"kind\":null,\"name\":\"nrows\"},{\"default\":true,\"kind\":null,\"name\":\"allow_resize\"},{\"default\":true,\"kind\":null,\"name\":\"allow_drag\"},{\"default\":[],\"kind\":null,\"name\":\"state\"}]},{\"extends\":null,\"module\":null,\"name\":\"click1\",\"overrides\":[],\"properties\":[{\"default\":\"\",\"kind\":null,\"name\":\"terminal_output\"},{\"default\":\"\",\"kind\":null,\"name\":\"debug_name\"},{\"default\":0,\"kind\":null,\"name\":\"clears\"}]},{\"extends\":null,\"module\":null,\"name\":\"NotificationAreaBase1\",\"overrides\":[],\"properties\":[{\"default\":\"bottom-right\",\"kind\":null,\"name\":\"position\"},{\"default\":0,\"kind\":null,\"name\":\"_clear\"}]},{\"extends\":null,\"module\":null,\"name\":\"NotificationArea1\",\"overrides\":[],\"properties\":[{\"default\":[],\"kind\":null,\"name\":\"notifications\"},{\"default\":\"bottom-right\",\"kind\":null,\"name\":\"position\"},{\"default\":0,\"kind\":null,\"name\":\"_clear\"},{\"default\":[{\"background\":\"#ffc107\",\"icon\":{\"className\":\"fas fa-exclamation-triangle\",\"color\":\"white\",\"tagName\":\"i\"},\"type\":\"warning\"},{\"background\":\"#007bff\",\"icon\":{\"className\":\"fas fa-info-circle\",\"color\":\"white\",\"tagName\":\"i\"},\"type\":\"info\"}],\"kind\":null,\"name\":\"types\"}]},{\"extends\":null,\"module\":null,\"name\":\"Notification\",\"overrides\":[],\"properties\":[{\"default\":null,\"kind\":null,\"name\":\"background\"},{\"default\":3000,\"kind\":null,\"name\":\"duration\"},{\"default\":null,\"kind\":null,\"name\":\"icon\"},{\"default\":\"\",\"kind\":null,\"name\":\"message\"},{\"default\":null,\"kind\":null,\"name\":\"notification_type\"},{\"default\":false,\"kind\":null,\"name\":\"_destroyed\"}]},{\"extends\":null,\"module\":null,\"name\":\"TemplateActions1\",\"overrides\":[],\"properties\":[{\"default\":0,\"kind\":null,\"name\":\"open_modal\"},{\"default\":0,\"kind\":null,\"name\":\"close_modal\"}]},{\"extends\":null,\"module\":null,\"name\":\"MaterialTemplateActions1\",\"overrides\":[],\"properties\":[{\"default\":0,\"kind\":null,\"name\":\"open_modal\"},{\"default\":0,\"kind\":null,\"name\":\"close_modal\"}]}],\"roots\":{\"references\":[{\"attributes\":{},\"id\":\"1026\",\"type\":\"WheelZoomTool\"},{\"attributes\":{\"overlay\":{\"id\":\"1029\"}},\"id\":\"1027\",\"type\":\"BoxZoomTool\"},{\"attributes\":{},\"id\":\"1054\",\"type\":\"AllLabels\"},{\"attributes\":{},\"id\":\"1021\",\"type\":\"BasicTicker\"},{\"attributes\":{\"end\":10.0,\"reset_end\":10.0,\"reset_start\":1.0,\"start\":1.0,\"tags\":[[[\"k\",\"k\",null]]]},\"id\":\"1004\",\"type\":\"Range1d\"},{\"attributes\":{\"coordinates\":null,\"data_source\":{\"id\":\"1037\"},\"glyph\":{\"id\":\"1040\"},\"group\":null,\"hover_glyph\":null,\"muted_glyph\":{\"id\":\"1042\"},\"nonselection_glyph\":{\"id\":\"1041\"},\"selection_glyph\":{\"id\":\"1045\"},\"view\":{\"id\":\"1044\"}},\"id\":\"1043\",\"type\":\"GlyphRenderer\"},{\"attributes\":{},\"id\":\"1012\",\"type\":\"LinearScale\"},{\"attributes\":{\"coordinates\":null,\"group\":null,\"text\":\"Elbow Curve\",\"text_color\":\"black\",\"text_font_size\":\"12pt\"},\"id\":\"1008\",\"type\":\"Title\"},{\"attributes\":{\"bottom_units\":\"screen\",\"coordinates\":null,\"fill_alpha\":0.5,\"fill_color\":\"lightgrey\",\"group\":null,\"left_units\":\"screen\",\"level\":\"overlay\",\"line_alpha\":1.0,\"line_color\":\"black\",\"line_dash\":[4,4],\"line_width\":2,\"right_units\":\"screen\",\"syncable\":false,\"top_units\":\"screen\"},\"id\":\"1029\",\"type\":\"BoxAnnotation\"},{\"attributes\":{\"axis\":{\"id\":\"1016\"},\"coordinates\":null,\"grid_line_color\":null,\"group\":null,\"ticker\":null},\"id\":\"1019\",\"type\":\"Grid\"},{\"attributes\":{\"children\":[{\"id\":\"1003\"},{\"id\":\"1007\"},{\"id\":\"1064\"}],\"margin\":[0,0,0,0],\"name\":\"Row00860\",\"tags\":[\"embedded\"]},\"id\":\"1002\",\"type\":\"Row\"},{\"attributes\":{},\"id\":\"1014\",\"type\":\"LinearScale\"},{\"attributes\":{\"line_color\":\"#30a2da\",\"line_width\":2,\"x\":{\"field\":\"k\"},\"y\":{\"field\":\"inertia\"}},\"id\":\"1040\",\"type\":\"Line\"},{\"attributes\":{\"axis_label\":\"inertia\",\"coordinates\":null,\"formatter\":{\"id\":\"1053\"},\"group\":null,\"major_label_policy\":{\"id\":\"1054\"},\"ticker\":{\"id\":\"1021\"}},\"id\":\"1020\",\"type\":\"LinearAxis\"},{\"attributes\":{\"axis_label\":\"k\",\"coordinates\":null,\"formatter\":{\"id\":\"1048\"},\"group\":null,\"major_label_policy\":{\"id\":\"1049\"},\"ticker\":{\"id\":\"1046\"}},\"id\":\"1016\",\"type\":\"LinearAxis\"},{\"attributes\":{\"line_color\":\"#30a2da\",\"line_width\":2,\"x\":{\"field\":\"k\"},\"y\":{\"field\":\"inertia\"}},\"id\":\"1045\",\"type\":\"Line\"},{\"attributes\":{},\"id\":\"1048\",\"type\":\"BasicTickFormatter\"},{\"attributes\":{\"margin\":[5,5,5,5],\"name\":\"HSpacer00864\",\"sizing_mode\":\"stretch_width\"},\"id\":\"1003\",\"type\":\"Spacer\"},{\"attributes\":{\"line_alpha\":0.1,\"line_color\":\"#30a2da\",\"line_width\":2,\"x\":{\"field\":\"k\"},\"y\":{\"field\":\"inertia\"}},\"id\":\"1041\",\"type\":\"Line\"},{\"attributes\":{},\"id\":\"1049\",\"type\":\"AllLabels\"},{\"attributes\":{\"axis\":{\"id\":\"1020\"},\"coordinates\":null,\"dimension\":1,\"grid_line_color\":null,\"group\":null,\"ticker\":null},\"id\":\"1023\",\"type\":\"Grid\"},{\"attributes\":{\"callback\":null,\"renderers\":[{\"id\":\"1043\"}],\"tags\":[\"hv_created\"],\"tooltips\":[[\"k\",\"@{k}\"],[\"inertia\",\"@{inertia}\"]]},\"id\":\"1006\",\"type\":\"HoverTool\"},{\"attributes\":{\"ticks\":[1,2,3,4,5,6,7,8,9,10]},\"id\":\"1046\",\"type\":\"FixedTicker\"},{\"attributes\":{\"data\":{\"inertia\":{\"__ndarray__\":\"bTafYnL2gUA9bWBmntZoQKymqsr9Bl1AVvWgT6xnVkDm0qR94pNQQBYzFtg6gkxAOIlQDTvuR0D9MOcNVaJDQOq1b3wwFkBA+C2/QpNqPEA=\",\"dtype\":\"float64\",\"order\":\"little\",\"shape\":[10]},\"k\":[1,2,3,4,5,6,7,8,9,10]},\"selected\":{\"id\":\"1038\"},\"selection_policy\":{\"id\":\"1061\"}},\"id\":\"1037\",\"type\":\"ColumnDataSource\"},{\"attributes\":{},\"id\":\"1053\",\"type\":\"BasicTickFormatter\"},{\"attributes\":{\"end\":629.4448064337405,\"reset_end\":629.4448064337405,\"reset_start\":-26.222644744436906,\"start\":-26.222644744436906,\"tags\":[[[\"inertia\",\"inertia\",null]]]},\"id\":\"1005\",\"type\":\"Range1d\"},{\"attributes\":{\"source\":{\"id\":\"1037\"}},\"id\":\"1044\",\"type\":\"CDSView\"},{\"attributes\":{\"below\":[{\"id\":\"1016\"}],\"center\":[{\"id\":\"1019\"},{\"id\":\"1023\"}],\"height\":300,\"left\":[{\"id\":\"1020\"}],\"margin\":[5,5,5,5],\"min_border_bottom\":10,\"min_border_left\":10,\"min_border_right\":10,\"min_border_top\":10,\"renderers\":[{\"id\":\"1043\"}],\"sizing_mode\":\"fixed\",\"title\":{\"id\":\"1008\"},\"toolbar\":{\"id\":\"1030\"},\"width\":700,\"x_range\":{\"id\":\"1004\"},\"x_scale\":{\"id\":\"1012\"},\"y_range\":{\"id\":\"1005\"},\"y_scale\":{\"id\":\"1014\"}},\"id\":\"1007\",\"subtype\":\"Figure\",\"type\":\"Plot\"},{\"attributes\":{},\"id\":\"1061\",\"type\":\"UnionRenderers\"},{\"attributes\":{\"tools\":[{\"id\":\"1006\"},{\"id\":\"1024\"},{\"id\":\"1025\"},{\"id\":\"1026\"},{\"id\":\"1027\"},{\"id\":\"1028\"}]},\"id\":\"1030\",\"type\":\"Toolbar\"},{\"attributes\":{\"line_alpha\":0.2,\"line_color\":\"#30a2da\",\"line_width\":2,\"x\":{\"field\":\"k\"},\"y\":{\"field\":\"inertia\"}},\"id\":\"1042\",\"type\":\"Line\"},{\"attributes\":{},\"id\":\"1024\",\"type\":\"SaveTool\"},{\"attributes\":{},\"id\":\"1038\",\"type\":\"Selection\"},{\"attributes\":{},\"id\":\"1025\",\"type\":\"PanTool\"},{\"attributes\":{},\"id\":\"1028\",\"type\":\"ResetTool\"},{\"attributes\":{\"margin\":[5,5,5,5],\"name\":\"HSpacer00865\",\"sizing_mode\":\"stretch_width\"},\"id\":\"1064\",\"type\":\"Spacer\"}],\"root_ids\":[\"1002\"]},\"title\":\"Bokeh Application\",\"version\":\"2.4.3\"}};\n",
       "    var render_items = [{\"docid\":\"3845518c-455a-42a4-9927-0e62000b0ea4\",\"root_ids\":[\"1002\"],\"roots\":{\"1002\":\"d23437d0-5e81-4a45-bb0c-48ebdc93c1cd\"}}];\n",
       "    root.Bokeh.embed.embed_items_notebook(docs_json, render_items);\n",
       "    for (const render_item of render_items) {\n",
       "      for (const root_id of render_item.root_ids) {\n",
       "\tconst id_el = document.getElementById(root_id)\n",
       "\tif (id_el.children.length && (id_el.children[0].className === 'bk-root')) {\n",
       "\t  const root_el = id_el.children[0]\n",
       "\t  root_el.id = root_el.id + '-rendered'\n",
       "\t}\n",
       "      }\n",
       "    }\n",
       "  }\n",
       "  if (root.Bokeh !== undefined && root.Bokeh.Panel !== undefined) {\n",
       "    embed_document(root);\n",
       "  } else {\n",
       "    var attempts = 0;\n",
       "    var timer = setInterval(function(root) {\n",
       "      if (root.Bokeh !== undefined && root.Bokeh.Panel !== undefined) {\n",
       "        clearInterval(timer);\n",
       "        embed_document(root);\n",
       "      } else if (document.readyState == \"complete\") {\n",
       "        attempts++;\n",
       "        if (attempts > 200) {\n",
       "          clearInterval(timer);\n",
       "          console.log(\"Bokeh: ERROR: Unable to run BokehJS code because BokehJS library is missing\");\n",
       "        }\n",
       "      }\n",
       "    }, 25, root)\n",
       "  }\n",
       "})(window);</script>"
      ],
      "text/plain": [
       ":Curve   [k]   (inertia)"
      ]
     },
     "execution_count": 20,
     "metadata": {
      "application/vnd.holoviews_exec.v0+json": {
       "id": "1002"
      }
     },
     "output_type": "execute_result"
    }
   ],
   "source": [
    "# Find the best value for K\n",
    "inertia = []\n",
    "k = list(range(1, 11))\n",
    "\n",
    "# Calculate the inertia for the range of K values\n",
    "for i in k:\n",
    "    km = KMeans(n_clusters=i, random_state=0)\n",
    "    km.fit(df_iris_pca)\n",
    "    inertia.append(km.inertia_)\n",
    "\n",
    "# Create the elbow curve\n",
    "elbow_data = {\"k\": k, \"inertia\": inertia}\n",
    "df_elbow = pd.DataFrame(elbow_data)\n",
    "df_elbow.hvplot.line(x=\"k\", y=\"inertia\", xticks=k, title=\"Elbow Curve\")"
   ]
  },
  {
   "cell_type": "markdown",
   "id": "ee820b9a",
   "metadata": {},
   "source": [
    "Use the principal components data with the K-means algorithm with a K value of 3. We could consider 2, but the direction shifts more after 3"
   ]
  },
  {
   "cell_type": "code",
   "execution_count": 21,
   "id": "5a0dc8c8",
   "metadata": {},
   "outputs": [
    {
     "data": {
      "text/html": [
       "<div>\n",
       "<style scoped>\n",
       "    .dataframe tbody tr th:only-of-type {\n",
       "        vertical-align: middle;\n",
       "    }\n",
       "\n",
       "    .dataframe tbody tr th {\n",
       "        vertical-align: top;\n",
       "    }\n",
       "\n",
       "    .dataframe thead th {\n",
       "        text-align: right;\n",
       "    }\n",
       "</style>\n",
       "<table border=\"1\" class=\"dataframe\">\n",
       "  <thead>\n",
       "    <tr style=\"text-align: right;\">\n",
       "      <th></th>\n",
       "      <th>0</th>\n",
       "      <th>1</th>\n",
       "      <th>class</th>\n",
       "    </tr>\n",
       "  </thead>\n",
       "  <tbody>\n",
       "    <tr>\n",
       "      <th>0</th>\n",
       "      <td>-2.264542</td>\n",
       "      <td>0.505704</td>\n",
       "      <td>0</td>\n",
       "    </tr>\n",
       "    <tr>\n",
       "      <th>1</th>\n",
       "      <td>-2.086426</td>\n",
       "      <td>-0.655405</td>\n",
       "      <td>0</td>\n",
       "    </tr>\n",
       "    <tr>\n",
       "      <th>2</th>\n",
       "      <td>-2.367950</td>\n",
       "      <td>-0.318477</td>\n",
       "      <td>0</td>\n",
       "    </tr>\n",
       "    <tr>\n",
       "      <th>3</th>\n",
       "      <td>-2.304197</td>\n",
       "      <td>-0.575368</td>\n",
       "      <td>0</td>\n",
       "    </tr>\n",
       "    <tr>\n",
       "      <th>4</th>\n",
       "      <td>-2.388777</td>\n",
       "      <td>0.674767</td>\n",
       "      <td>0</td>\n",
       "    </tr>\n",
       "  </tbody>\n",
       "</table>\n",
       "</div>"
      ],
      "text/plain": [
       "          0         1  class\n",
       "0 -2.264542  0.505704      0\n",
       "1 -2.086426 -0.655405      0\n",
       "2 -2.367950 -0.318477      0\n",
       "3 -2.304197 -0.575368      0\n",
       "4 -2.388777  0.674767      0"
      ]
     },
     "execution_count": 21,
     "metadata": {},
     "output_type": "execute_result"
    }
   ],
   "source": [
    "# Initialize the K-means model\n",
    "model = KMeans(n_clusters=3, random_state=0)\n",
    "\n",
    "# Fit the model\n",
    "model.fit(df_iris_pca)\n",
    "\n",
    "# Predict clusters\n",
    "predictions = model.predict(df_iris_pca)\n",
    "\n",
    "# Add the predicted class columns\n",
    "df_iris_pca[\"class\"] = model.labels_\n",
    "df_iris_pca.head()"
   ]
  },
  {
   "cell_type": "markdown",
   "id": "c11e4161",
   "metadata": {},
   "source": [
    "### Finally, we can plot the clusters. Instead of a 3D plot, the data is easier to analyze with only two features"
   ]
  },
  {
   "cell_type": "code",
   "execution_count": 23,
   "id": "713a2f1f",
   "metadata": {},
   "outputs": [
    {
     "data": {},
     "metadata": {},
     "output_type": "display_data"
    },
    {
     "data": {
      "application/vnd.holoviews_exec.v0+json": "",
      "text/html": [
       "<div id='1111'>\n",
       "  <div class=\"bk-root\" id=\"02a4f5e6-6d74-404d-95b3-26818e70c623\" data-root-id=\"1111\"></div>\n",
       "</div>\n",
       "<script type=\"application/javascript\">(function(root) {\n",
       "  function embed_document(root) {\n",
       "    var docs_json = {\"506df5a4-a5de-4ce6-8494-be027d573882\":{\"defs\":[{\"extends\":null,\"module\":null,\"name\":\"ReactiveHTML1\",\"overrides\":[],\"properties\":[]},{\"extends\":null,\"module\":null,\"name\":\"FlexBox1\",\"overrides\":[],\"properties\":[{\"default\":\"flex-start\",\"kind\":null,\"name\":\"align_content\"},{\"default\":\"flex-start\",\"kind\":null,\"name\":\"align_items\"},{\"default\":\"row\",\"kind\":null,\"name\":\"flex_direction\"},{\"default\":\"wrap\",\"kind\":null,\"name\":\"flex_wrap\"},{\"default\":\"flex-start\",\"kind\":null,\"name\":\"justify_content\"}]},{\"extends\":null,\"module\":null,\"name\":\"GridStack1\",\"overrides\":[],\"properties\":[{\"default\":\"warn\",\"kind\":null,\"name\":\"mode\"},{\"default\":null,\"kind\":null,\"name\":\"ncols\"},{\"default\":null,\"kind\":null,\"name\":\"nrows\"},{\"default\":true,\"kind\":null,\"name\":\"allow_resize\"},{\"default\":true,\"kind\":null,\"name\":\"allow_drag\"},{\"default\":[],\"kind\":null,\"name\":\"state\"}]},{\"extends\":null,\"module\":null,\"name\":\"click1\",\"overrides\":[],\"properties\":[{\"default\":\"\",\"kind\":null,\"name\":\"terminal_output\"},{\"default\":\"\",\"kind\":null,\"name\":\"debug_name\"},{\"default\":0,\"kind\":null,\"name\":\"clears\"}]},{\"extends\":null,\"module\":null,\"name\":\"NotificationAreaBase1\",\"overrides\":[],\"properties\":[{\"default\":\"bottom-right\",\"kind\":null,\"name\":\"position\"},{\"default\":0,\"kind\":null,\"name\":\"_clear\"}]},{\"extends\":null,\"module\":null,\"name\":\"NotificationArea1\",\"overrides\":[],\"properties\":[{\"default\":[],\"kind\":null,\"name\":\"notifications\"},{\"default\":\"bottom-right\",\"kind\":null,\"name\":\"position\"},{\"default\":0,\"kind\":null,\"name\":\"_clear\"},{\"default\":[{\"background\":\"#ffc107\",\"icon\":{\"className\":\"fas fa-exclamation-triangle\",\"color\":\"white\",\"tagName\":\"i\"},\"type\":\"warning\"},{\"background\":\"#007bff\",\"icon\":{\"className\":\"fas fa-info-circle\",\"color\":\"white\",\"tagName\":\"i\"},\"type\":\"info\"}],\"kind\":null,\"name\":\"types\"}]},{\"extends\":null,\"module\":null,\"name\":\"Notification\",\"overrides\":[],\"properties\":[{\"default\":null,\"kind\":null,\"name\":\"background\"},{\"default\":3000,\"kind\":null,\"name\":\"duration\"},{\"default\":null,\"kind\":null,\"name\":\"icon\"},{\"default\":\"\",\"kind\":null,\"name\":\"message\"},{\"default\":null,\"kind\":null,\"name\":\"notification_type\"},{\"default\":false,\"kind\":null,\"name\":\"_destroyed\"}]},{\"extends\":null,\"module\":null,\"name\":\"TemplateActions1\",\"overrides\":[],\"properties\":[{\"default\":0,\"kind\":null,\"name\":\"open_modal\"},{\"default\":0,\"kind\":null,\"name\":\"close_modal\"}]},{\"extends\":null,\"module\":null,\"name\":\"MaterialTemplateActions1\",\"overrides\":[],\"properties\":[{\"default\":0,\"kind\":null,\"name\":\"open_modal\"},{\"default\":0,\"kind\":null,\"name\":\"close_modal\"}]}],\"roots\":{\"references\":[{\"attributes\":{\"end\":3.569854510235276,\"reset_end\":3.569854510235276,\"reset_start\":-3.0348831212643534,\"start\":-3.0348831212643534,\"tags\":[[[\"0\",\"0\",null]]]},\"id\":\"1113\",\"type\":\"Range1d\"},{\"attributes\":{},\"id\":\"1198\",\"type\":\"Selection\"},{\"attributes\":{\"fill_alpha\":{\"value\":0.2},\"fill_color\":{\"value\":\"#fc4f30\"},\"hatch_alpha\":{\"value\":0.2},\"hatch_color\":{\"value\":\"#fc4f30\"},\"line_alpha\":{\"value\":0.2},\"line_color\":{\"value\":\"#fc4f30\"},\"size\":{\"value\":5.477225575051661},\"x\":{\"field\":\"0\"},\"y\":{\"field\":\"1\"}},\"id\":\"1180\",\"type\":\"Scatter\"},{\"attributes\":{},\"id\":\"1132\",\"type\":\"BasicTicker\"},{\"attributes\":{\"label\":{\"value\":\"2\"},\"renderers\":[{\"id\":\"1203\"}]},\"id\":\"1219\",\"type\":\"LegendItem\"},{\"attributes\":{},\"id\":\"1216\",\"type\":\"UnionRenderers\"},{\"attributes\":{\"coordinates\":null,\"group\":null,\"text_color\":\"black\",\"text_font_size\":\"12pt\"},\"id\":\"1119\",\"type\":\"Title\"},{\"attributes\":{\"angle\":{\"value\":0.0},\"fill_alpha\":{\"value\":1.0},\"fill_color\":{\"value\":\"#e5ae38\"},\"hatch_alpha\":{\"value\":1.0},\"hatch_color\":{\"value\":\"#e5ae38\"},\"hatch_scale\":{\"value\":12.0},\"hatch_weight\":{\"value\":1.0},\"line_alpha\":{\"value\":1.0},\"line_cap\":{\"value\":\"butt\"},\"line_color\":{\"value\":\"#e5ae38\"},\"line_dash\":{\"value\":[]},\"line_dash_offset\":{\"value\":0},\"line_join\":{\"value\":\"bevel\"},\"line_width\":{\"value\":1},\"marker\":{\"value\":\"circle\"},\"size\":{\"value\":5.477225575051661},\"x\":{\"field\":\"0\"},\"y\":{\"field\":\"1\"}},\"id\":\"1220\",\"type\":\"Scatter\"},{\"attributes\":{\"axis\":{\"id\":\"1127\"},\"coordinates\":null,\"grid_line_color\":null,\"group\":null,\"ticker\":null},\"id\":\"1130\",\"type\":\"Grid\"},{\"attributes\":{\"fill_color\":{\"value\":\"#30a2da\"},\"hatch_color\":{\"value\":\"#30a2da\"},\"line_color\":{\"value\":\"#30a2da\"},\"size\":{\"value\":5.477225575051661},\"x\":{\"field\":\"0\"},\"y\":{\"field\":\"1\"}},\"id\":\"1157\",\"type\":\"Scatter\"},{\"attributes\":{\"angle\":{\"value\":0.0},\"fill_alpha\":{\"value\":1.0},\"fill_color\":{\"value\":\"#30a2da\"},\"hatch_alpha\":{\"value\":1.0},\"hatch_color\":{\"value\":\"#30a2da\"},\"hatch_scale\":{\"value\":12.0},\"hatch_weight\":{\"value\":1.0},\"line_alpha\":{\"value\":1.0},\"line_cap\":{\"value\":\"butt\"},\"line_color\":{\"value\":\"#30a2da\"},\"line_dash\":{\"value\":[]},\"line_dash_offset\":{\"value\":0},\"line_join\":{\"value\":\"bevel\"},\"line_width\":{\"value\":1},\"marker\":{\"value\":\"circle\"},\"size\":{\"value\":5.477225575051661},\"x\":{\"field\":\"0\"},\"y\":{\"field\":\"1\"}},\"id\":\"1174\",\"type\":\"Scatter\"},{\"attributes\":{},\"id\":\"1192\",\"type\":\"UnionRenderers\"},{\"attributes\":{\"children\":[{\"id\":\"1112\"},{\"id\":\"1118\"},{\"id\":\"1235\"}],\"margin\":[0,0,0,0],\"name\":\"Row01034\",\"tags\":[\"embedded\"]},\"id\":\"1111\",\"type\":\"Row\"},{\"attributes\":{},\"id\":\"1128\",\"type\":\"BasicTicker\"},{\"attributes\":{},\"id\":\"1155\",\"type\":\"Selection\"},{\"attributes\":{\"source\":{\"id\":\"1154\"}},\"id\":\"1161\",\"type\":\"CDSView\"},{\"attributes\":{\"fill_color\":{\"value\":\"#fc4f30\"},\"hatch_color\":{\"value\":\"#fc4f30\"},\"line_color\":{\"value\":\"#fc4f30\"},\"size\":{\"value\":5.477225575051661},\"x\":{\"field\":\"0\"},\"y\":{\"field\":\"1\"}},\"id\":\"1178\",\"type\":\"Scatter\"},{\"attributes\":{},\"id\":\"1125\",\"type\":\"LinearScale\"},{\"attributes\":{},\"id\":\"1169\",\"type\":\"UnionRenderers\"},{\"attributes\":{\"coordinates\":null,\"data_source\":{\"id\":\"1197\"},\"glyph\":{\"id\":\"1200\"},\"group\":null,\"hover_glyph\":null,\"muted_glyph\":{\"id\":\"1202\"},\"nonselection_glyph\":{\"id\":\"1201\"},\"selection_glyph\":{\"id\":\"1220\"},\"view\":{\"id\":\"1204\"}},\"id\":\"1203\",\"type\":\"GlyphRenderer\"},{\"attributes\":{\"axis_label\":\"1\",\"coordinates\":null,\"formatter\":{\"id\":\"1152\"},\"group\":null,\"major_label_policy\":{\"id\":\"1153\"},\"ticker\":{\"id\":\"1132\"}},\"id\":\"1131\",\"type\":\"LinearAxis\"},{\"attributes\":{\"data\":{\"0\":{\"__ndarray__\":\"SBG/DcgdAsCnflXa/7AAwDEtSgGQ8QLArnjV6/5uAsCBOOBfNxwDwLQJAJp1kADA7lhZG9GQA8C6vPx66N4BwLrvZ05UvALA5dUzb2iCAcDJACQK0k4BwIGPWzp4ngLAbkHW4evKAcBxYBiPIx4FwONkYiHQiQHA8cLFMQADAsDEicmkO58BwNXnRqd8hQHAGLKL2CBO/r9xMd43N7gCwDwu6+IFov6/KnpNIB2jAcAlHszufzEGwHWyHOBnIP2/dG9EsmPTAcBqStBn+E//v+oJWiugagDA0hcE6nVYAcD16Z27WB8BwCQNM3l7JgLA4OURJwwoAcC2CNRTnk/9v3qUD3eZ3QTAyoxIYeyAA8Dl1TNvaIIBwAjB4qBfsAHArAtPDPdaAMDl1TNvaIIBwJ/dMoLUfAPAViP02UddAcA+4QHLzkoCwGJzDEaD8v2/X/lj5HF2BMD9iQQfsG3/v/qHnMYlEQHAou7lFFWaAMDT+qMb0QwDwJNmoB9/LwPALposq3LQAcDfjpZMy6UBwA==\",\"dtype\":\"float64\",\"order\":\"little\",\"shape\":[50]},\"1\":{\"__ndarray__\":\"aO9787ku4D/iF8lWE/nkv4LYpqjuYdS/FCSQjGlp4r/T0afLsZflP7y+IZP5S/g/ICSoGooWsz9weXQ10LHPP9IIOjG4hfG/kU6pnFa23L9qMKXTKCHxPyK/qP2XTMQ/qao3kBix5r+OiXLvZwbuv9uryBtaPf4/lLWrfGrHBUBhjF03Ujj4PzX+/04udeA/9kk0V9Tl9j8opZIPTofyP2rAlsG9jNs/3PKSxId67j89u+o4P1TfPw/WDBwFVLs/QO1BJITCxD+6YRod23Pjv2mqjuRgBtE/bIxIfx6q4T/YGaA2hIvVP2lBWpX4JtS/TQayRej43r8Plx54QH/cP7lxJTRvQf0/xrJwma57AUCRTqmcVrbcvx/n16FhmMe/s+VDvSnr5T+RTqmcVrbcv37EP1q7Ouy/dESP1gm80j9UwmaGk/PdP4B/28YcnwLAse8l3FML3b9mssu+Q9XfP+7eGJkvvvI//Ywv2S8k5r9UqsG4/WjyP96ttwhpMde/eO6vZGBo8D+47UmWeoGgPw==\",\"dtype\":\"float64\",\"order\":\"little\",\"shape\":[50]},\"A_0\":{\"__ndarray__\":\"SBG/DcgdAsCnflXa/7AAwDEtSgGQ8QLArnjV6/5uAsCBOOBfNxwDwLQJAJp1kADA7lhZG9GQA8C6vPx66N4BwLrvZ05UvALA5dUzb2iCAcDJACQK0k4BwIGPWzp4ngLAbkHW4evKAcBxYBiPIx4FwONkYiHQiQHA8cLFMQADAsDEicmkO58BwNXnRqd8hQHAGLKL2CBO/r9xMd43N7gCwDwu6+IFov6/KnpNIB2jAcAlHszufzEGwHWyHOBnIP2/dG9EsmPTAcBqStBn+E//v+oJWiugagDA0hcE6nVYAcD16Z27WB8BwCQNM3l7JgLA4OURJwwoAcC2CNRTnk/9v3qUD3eZ3QTAyoxIYeyAA8Dl1TNvaIIBwAjB4qBfsAHArAtPDPdaAMDl1TNvaIIBwJ/dMoLUfAPAViP02UddAcA+4QHLzkoCwGJzDEaD8v2/X/lj5HF2BMD9iQQfsG3/v/qHnMYlEQHAou7lFFWaAMDT+qMb0QwDwJNmoB9/LwPALposq3LQAcDfjpZMy6UBwA==\",\"dtype\":\"float64\",\"order\":\"little\",\"shape\":[50]},\"A_1\":{\"__ndarray__\":\"aO9787ku4D/iF8lWE/nkv4LYpqjuYdS/FCSQjGlp4r/T0afLsZflP7y+IZP5S/g/ICSoGooWsz9weXQ10LHPP9IIOjG4hfG/kU6pnFa23L9qMKXTKCHxPyK/qP2XTMQ/qao3kBix5r+OiXLvZwbuv9uryBtaPf4/lLWrfGrHBUBhjF03Ujj4PzX+/04udeA/9kk0V9Tl9j8opZIPTofyP2rAlsG9jNs/3PKSxId67j89u+o4P1TfPw/WDBwFVLs/QO1BJITCxD+6YRod23Pjv2mqjuRgBtE/bIxIfx6q4T/YGaA2hIvVP2lBWpX4JtS/TQayRej43r8Plx54QH/cP7lxJTRvQf0/xrJwma57AUCRTqmcVrbcvx/n16FhmMe/s+VDvSnr5T+RTqmcVrbcv37EP1q7Ouy/dESP1gm80j9UwmaGk/PdP4B/28YcnwLAse8l3FML3b9mssu+Q9XfP+7eGJkvvvI//Ywv2S8k5r9UqsG4/WjyP96ttwhpMde/eO6vZGBo8D+47UmWeoGgPw==\",\"dtype\":\"float64\",\"order\":\"little\",\"shape\":[50]},\"class\":{\"__ndarray__\":\"AAAAAAAAAAAAAAAAAAAAAAAAAAAAAAAAAAAAAAAAAAAAAAAAAAAAAAAAAAAAAAAAAAAAAAAAAAAAAAAAAAAAAAAAAAAAAAAAAAAAAAAAAAAAAAAAAAAAAAAAAAAAAAAAAAAAAAAAAAAAAAAAAAAAAAAAAAAAAAAAAAAAAAAAAAAAAAAAAAAAAAAAAAAAAAAAAAAAAAAAAAAAAAAAAAAAAAAAAAAAAAAAAAAAAAAAAAAAAAAAAAAAAAAAAAAAAAAAAAAAAAAAAAA=\",\"dtype\":\"int32\",\"order\":\"little\",\"shape\":[50]}},\"selected\":{\"id\":\"1155\"},\"selection_policy\":{\"id\":\"1169\"}},\"id\":\"1154\",\"type\":\"ColumnDataSource\"},{\"attributes\":{\"below\":[{\"id\":\"1127\"}],\"center\":[{\"id\":\"1130\"},{\"id\":\"1134\"}],\"height\":300,\"left\":[{\"id\":\"1131\"}],\"margin\":[5,5,5,5],\"min_border_bottom\":10,\"min_border_left\":10,\"min_border_right\":10,\"min_border_top\":10,\"renderers\":[{\"id\":\"1160\"},{\"id\":\"1181\"},{\"id\":\"1203\"}],\"right\":[{\"id\":\"1172\"}],\"sizing_mode\":\"fixed\",\"title\":{\"id\":\"1119\"},\"toolbar\":{\"id\":\"1141\"},\"width\":700,\"x_range\":{\"id\":\"1113\"},\"x_scale\":{\"id\":\"1123\"},\"y_range\":{\"id\":\"1114\"},\"y_scale\":{\"id\":\"1125\"}},\"id\":\"1118\",\"subtype\":\"Figure\",\"type\":\"Plot\"},{\"attributes\":{\"axis_label\":\"0\",\"coordinates\":null,\"formatter\":{\"id\":\"1149\"},\"group\":null,\"major_label_policy\":{\"id\":\"1150\"},\"ticker\":{\"id\":\"1128\"}},\"id\":\"1127\",\"type\":\"LinearAxis\"},{\"attributes\":{\"label\":{\"value\":\"0\"},\"renderers\":[{\"id\":\"1160\"}]},\"id\":\"1173\",\"type\":\"LegendItem\"},{\"attributes\":{\"coordinates\":null,\"data_source\":{\"id\":\"1154\"},\"glyph\":{\"id\":\"1157\"},\"group\":null,\"hover_glyph\":null,\"muted_glyph\":{\"id\":\"1159\"},\"nonselection_glyph\":{\"id\":\"1158\"},\"selection_glyph\":{\"id\":\"1174\"},\"view\":{\"id\":\"1161\"}},\"id\":\"1160\",\"type\":\"GlyphRenderer\"},{\"attributes\":{\"coordinates\":null,\"data_source\":{\"id\":\"1175\"},\"glyph\":{\"id\":\"1178\"},\"group\":null,\"hover_glyph\":null,\"muted_glyph\":{\"id\":\"1180\"},\"nonselection_glyph\":{\"id\":\"1179\"},\"selection_glyph\":{\"id\":\"1196\"},\"view\":{\"id\":\"1182\"}},\"id\":\"1181\",\"type\":\"GlyphRenderer\"},{\"attributes\":{\"end\":3.2604144520280935,\"reset_end\":3.2604144520280935,\"reset_start\":-3.1961060534153853,\"start\":-3.1961060534153853,\"tags\":[[[\"1\",\"1\",null]]]},\"id\":\"1114\",\"type\":\"Range1d\"},{\"attributes\":{\"axis\":{\"id\":\"1131\"},\"coordinates\":null,\"dimension\":1,\"grid_line_color\":null,\"group\":null,\"ticker\":null},\"id\":\"1134\",\"type\":\"Grid\"},{\"attributes\":{\"source\":{\"id\":\"1175\"}},\"id\":\"1182\",\"type\":\"CDSView\"},{\"attributes\":{\"data\":{\"0\":{\"__ndarray__\":\"c5icP/Wp8T/pdLjqfHDnP0pUdjeu3/M/kX2nUXn15z99t9eWSwfsPwfqCkTLn+c/aokX1wP06z/sYaNJSxH0PxdwyrRZu/U/YyqW1lWi2z+lboqoZcrwP2VoZCMRkP0/XaOtkJqmAUCwkwP82gT3P8Sof1zh4v0/dEK5SJgIBkDlZzhbjmwCQPYm68uNAwBAIk9oqvMjAkBti3vYw9r1P64QOb/Elfk/PK6UReUl/j8b0QQIDXj5P3odkBhdivc/QfYnSsB/A0AzhisDH3kKQJfn9rPvUgBAOC4taDwvB0BDqLnnkUT7P6gJnj3aUv8/IdLu7wVR8D+h2hYHfpP8P4AbVl0h1v0/ifhsDuZ7A0AztjE3VocCQGwtB9QUxP0/j042KVhoBkC0+a/eUEj5P/DOTXR+jfU/PgUQICao/T8PDMQGFyEAQLpqwqkqc/4/Og5TGLJYAEC6eb2NdgMAQPHgNY2o7f0/+IJComFV+D8P9OTEsgX2Pw==\",\"dtype\":\"float64\",\"order\":\"little\",\"shape\":[47]},\"1\":{\"__ndarray__\":\"4Hb2/Z2e6z8fPDfKBSjjP9/NPSGgrOM/t1+rWRnr6D9pOXqk51HgP5FBqiETwtk/ZZ7yIJwL0D/xh7BClya1v0steShkC9U/EQg+Gkhd6z/Fk6QJ17XgP4Usy2Xw5Os/DsTpFji+4T+YlDOr+pqpv/VEGSLnotI/pwetLdY66T9cO0mDhTXaP6+Qnq/nKee/xY2XATu+/j83oQKF0jTmP2p9L85taNu/d6dDi22E2j80fGgVRqrlPzg3rDJONNA/hDlsMT10BEDwhKQTDFhjv0l0hSJpCe0/epKR42l12T+UWt+y8znwP6CAK36oDfA/cKj7cmzHsD/gvEvBKb3Iv5TkXX2vxeE/6V7ipF+Szz8o4TWwbAIFQIqBO1NYo8e/Uys1XS0I6z+nj2oE2yjxPyH8A+M9Bts/wqTAq3yE5T/e+zteX4jjP+Z2Ilnq8+U/wSJfoH+r6z8/eOdp3MbwPwNEMiongNg/gttvjSkT0T8gLdG5BEPwPw==\",\"dtype\":\"float64\",\"order\":\"little\",\"shape\":[47]},\"A_0\":{\"__ndarray__\":\"c5icP/Wp8T/pdLjqfHDnP0pUdjeu3/M/kX2nUXn15z99t9eWSwfsPwfqCkTLn+c/aokX1wP06z/sYaNJSxH0PxdwyrRZu/U/YyqW1lWi2z+lboqoZcrwP2VoZCMRkP0/XaOtkJqmAUCwkwP82gT3P8Sof1zh4v0/dEK5SJgIBkDlZzhbjmwCQPYm68uNAwBAIk9oqvMjAkBti3vYw9r1P64QOb/Elfk/PK6UReUl/j8b0QQIDXj5P3odkBhdivc/QfYnSsB/A0AzhisDH3kKQJfn9rPvUgBAOC4taDwvB0BDqLnnkUT7P6gJnj3aUv8/IdLu7wVR8D+h2hYHfpP8P4AbVl0h1v0/ifhsDuZ7A0AztjE3VocCQGwtB9QUxP0/j042KVhoBkC0+a/eUEj5P/DOTXR+jfU/PgUQICao/T8PDMQGFyEAQLpqwqkqc/4/Og5TGLJYAEC6eb2NdgMAQPHgNY2o7f0/+IJComFV+D8P9OTEsgX2Pw==\",\"dtype\":\"float64\",\"order\":\"little\",\"shape\":[47]},\"A_1\":{\"__ndarray__\":\"4Hb2/Z2e6z8fPDfKBSjjP9/NPSGgrOM/t1+rWRnr6D9pOXqk51HgP5FBqiETwtk/ZZ7yIJwL0D/xh7BClya1v0steShkC9U/EQg+Gkhd6z/Fk6QJ17XgP4Usy2Xw5Os/DsTpFji+4T+YlDOr+pqpv/VEGSLnotI/pwetLdY66T9cO0mDhTXaP6+Qnq/nKee/xY2XATu+/j83oQKF0jTmP2p9L85taNu/d6dDi22E2j80fGgVRqrlPzg3rDJONNA/hDlsMT10BEDwhKQTDFhjv0l0hSJpCe0/epKR42l12T+UWt+y8znwP6CAK36oDfA/cKj7cmzHsD/gvEvBKb3Iv5TkXX2vxeE/6V7ipF+Szz8o4TWwbAIFQIqBO1NYo8e/Uys1XS0I6z+nj2oE2yjxPyH8A+M9Bts/wqTAq3yE5T/e+zteX4jjP+Z2Ilnq8+U/wSJfoH+r6z8/eOdp3MbwPwNEMiongNg/gttvjSkT0T8gLdG5BEPwPw==\",\"dtype\":\"float64\",\"order\":\"little\",\"shape\":[47]},\"class\":{\"__ndarray__\":\"AgAAAAIAAAACAAAAAgAAAAIAAAACAAAAAgAAAAIAAAACAAAAAgAAAAIAAAACAAAAAgAAAAIAAAACAAAAAgAAAAIAAAACAAAAAgAAAAIAAAACAAAAAgAAAAIAAAACAAAAAgAAAAIAAAACAAAAAgAAAAIAAAACAAAAAgAAAAIAAAACAAAAAgAAAAIAAAACAAAAAgAAAAIAAAACAAAAAgAAAAIAAAACAAAAAgAAAAIAAAACAAAAAgAAAAIAAAA=\",\"dtype\":\"int32\",\"order\":\"little\",\"shape\":[47]}},\"selected\":{\"id\":\"1198\"},\"selection_policy\":{\"id\":\"1216\"}},\"id\":\"1197\",\"type\":\"ColumnDataSource\"},{\"attributes\":{\"callback\":null,\"renderers\":[{\"id\":\"1160\"},{\"id\":\"1181\"},{\"id\":\"1203\"}],\"tags\":[\"hv_created\"],\"tooltips\":[[\"class\",\"@{class}\"],[\"0\",\"@{A_0}\"],[\"1\",\"@{A_1}\"]]},\"id\":\"1115\",\"type\":\"HoverTool\"},{\"attributes\":{\"overlay\":{\"id\":\"1140\"}},\"id\":\"1138\",\"type\":\"BoxZoomTool\"},{\"attributes\":{\"source\":{\"id\":\"1197\"}},\"id\":\"1204\",\"type\":\"CDSView\"},{\"attributes\":{},\"id\":\"1150\",\"type\":\"AllLabels\"},{\"attributes\":{\"fill_alpha\":{\"value\":0.1},\"fill_color\":{\"value\":\"#30a2da\"},\"hatch_alpha\":{\"value\":0.1},\"hatch_color\":{\"value\":\"#30a2da\"},\"line_alpha\":{\"value\":0.1},\"line_color\":{\"value\":\"#30a2da\"},\"size\":{\"value\":5.477225575051661},\"x\":{\"field\":\"0\"},\"y\":{\"field\":\"1\"}},\"id\":\"1158\",\"type\":\"Scatter\"},{\"attributes\":{\"margin\":[5,5,5,5],\"name\":\"HSpacer01038\",\"sizing_mode\":\"stretch_width\"},\"id\":\"1112\",\"type\":\"Spacer\"},{\"attributes\":{\"fill_alpha\":{\"value\":0.1},\"fill_color\":{\"value\":\"#e5ae38\"},\"hatch_alpha\":{\"value\":0.1},\"hatch_color\":{\"value\":\"#e5ae38\"},\"line_alpha\":{\"value\":0.1},\"line_color\":{\"value\":\"#e5ae38\"},\"size\":{\"value\":5.477225575051661},\"x\":{\"field\":\"0\"},\"y\":{\"field\":\"1\"}},\"id\":\"1201\",\"type\":\"Scatter\"},{\"attributes\":{\"label\":{\"value\":\"1\"},\"renderers\":[{\"id\":\"1181\"}]},\"id\":\"1195\",\"type\":\"LegendItem\"},{\"attributes\":{},\"id\":\"1152\",\"type\":\"BasicTickFormatter\"},{\"attributes\":{\"tools\":[{\"id\":\"1115\"},{\"id\":\"1135\"},{\"id\":\"1136\"},{\"id\":\"1137\"},{\"id\":\"1138\"},{\"id\":\"1139\"}]},\"id\":\"1141\",\"type\":\"Toolbar\"},{\"attributes\":{},\"id\":\"1153\",\"type\":\"AllLabels\"},{\"attributes\":{},\"id\":\"1176\",\"type\":\"Selection\"},{\"attributes\":{\"fill_alpha\":{\"value\":0.2},\"fill_color\":{\"value\":\"#30a2da\"},\"hatch_alpha\":{\"value\":0.2},\"hatch_color\":{\"value\":\"#30a2da\"},\"line_alpha\":{\"value\":0.2},\"line_color\":{\"value\":\"#30a2da\"},\"size\":{\"value\":5.477225575051661},\"x\":{\"field\":\"0\"},\"y\":{\"field\":\"1\"}},\"id\":\"1159\",\"type\":\"Scatter\"},{\"attributes\":{\"fill_color\":{\"value\":\"#e5ae38\"},\"hatch_color\":{\"value\":\"#e5ae38\"},\"line_color\":{\"value\":\"#e5ae38\"},\"size\":{\"value\":5.477225575051661},\"x\":{\"field\":\"0\"},\"y\":{\"field\":\"1\"}},\"id\":\"1200\",\"type\":\"Scatter\"},{\"attributes\":{\"bottom_units\":\"screen\",\"coordinates\":null,\"fill_alpha\":0.5,\"fill_color\":\"lightgrey\",\"group\":null,\"left_units\":\"screen\",\"level\":\"overlay\",\"line_alpha\":1.0,\"line_color\":\"black\",\"line_dash\":[4,4],\"line_width\":2,\"right_units\":\"screen\",\"syncable\":false,\"top_units\":\"screen\"},\"id\":\"1140\",\"type\":\"BoxAnnotation\"},{\"attributes\":{\"fill_alpha\":{\"value\":0.2},\"fill_color\":{\"value\":\"#e5ae38\"},\"hatch_alpha\":{\"value\":0.2},\"hatch_color\":{\"value\":\"#e5ae38\"},\"line_alpha\":{\"value\":0.2},\"line_color\":{\"value\":\"#e5ae38\"},\"size\":{\"value\":5.477225575051661},\"x\":{\"field\":\"0\"},\"y\":{\"field\":\"1\"}},\"id\":\"1202\",\"type\":\"Scatter\"},{\"attributes\":{},\"id\":\"1135\",\"type\":\"SaveTool\"},{\"attributes\":{\"data\":{\"0\":{\"__ndarray__\":\"hRWMhntt2T9KnJZFWCnxP26BHlf2mtg/7v4dZv7c379yGywXnaPtP8XCkDZaWXQ/2t2FPizsv7+zz+h8JxTcP1hNsk78puE/O0UqJwTz5j+sz63ghxOjv5xu06S8RdY/47Iv7V2iwz9o6iTH4XHzPzTYZACmFsQ/Wq1SDE473j8TyjX41qXzP40xy7fjI+Q/G9CK7kVq5j8hhVUnIzDlP8Ib1FJINai/YT98rN0cvz/BkFg5BOqMPyDf6GWaNc4/Ec1ZRTXo8D+tsJMoZVfMP9Kbvwf1kvA/t14TnFcrsT98NwN1kKDRP899yQ7wbdE/p43+VwPx4z+33kvRzh7VP8TEFNWD6de/2iTllsIb0j89X21EL8y2Pw0kQhu5t8w/9ARG5kBd4j/djFDrsj/dv+SA0gDGJNA/4l8IKHdz8j/+oUp+m+/WP1735HGkDPQ/HuKIxsts9z//RPpdThD0P5NitwdQKu8/9oqkmmBE9T9kfP3wHsDyP+D2a9zEx/E/LDazatUo8z+cvvFQw4ztP+JfCCh3c/I/TNVbMZXv+D872SvtkrLuPw==\",\"dtype\":\"float64\",\"order\":\"little\",\"shape\":[53]},\"1\":{\"__ndarray__\":\"ls0hw3Uh/L9/AFcJ4hrLv/UVlNb76eK/aZSza/eU/b/HjGFUCw+fP+zLA01tePC/94KEXbZDBcC49gYTsCWuv0vNqHx+XPy/2Xstxk+8x781LLY26rLbvxq+JkVKZsi/lonUeJ9N6b9l5T6HOSL6v8BAi9CC2fS/tgipiLWp2r9Kr8dW+Rvuv+fFU70Krdq/+DbCViNBsL9lGdg+X7fMv2sFEZBX6vC/b8J8cXkE+b9x1i92nSz5v0WekB1e1Oi/EC0SzX5h5L+Cbj2aaPnRv7yLs++KR/a/mMdo/yc3y79DZwsN7Ub1vysJ/oM76fG/6sUd1SI0nD9r68QlE6Xvv9LC5Ku5JADAqEs7dJBT67+wjkY+Z2PGv1T2R1TcWdi/eTq1mhitw7+5+86JpaH4v6l6HI5KEeO/UQhbdkNx5r9Flg29Jfb4v5QxaImirfK/sq9g7els3L9VKnQyOXv7v0rNWXwPR+K/QmwdsBUn37/G2YlbzWjUv/yTgLFv8dK/UK/b9jwm6r9SAFtSILGTP1EIW3ZDcea/xFrVOlT47L9+Ciw2mtGWvw==\",\"dtype\":\"float64\",\"order\":\"little\",\"shape\":[53]},\"A_0\":{\"__ndarray__\":\"hRWMhntt2T9KnJZFWCnxP26BHlf2mtg/7v4dZv7c379yGywXnaPtP8XCkDZaWXQ/2t2FPizsv7+zz+h8JxTcP1hNsk78puE/O0UqJwTz5j+sz63ghxOjv5xu06S8RdY/47Iv7V2iwz9o6iTH4XHzPzTYZACmFsQ/Wq1SDE473j8TyjX41qXzP40xy7fjI+Q/G9CK7kVq5j8hhVUnIzDlP8Ib1FJINai/YT98rN0cvz/BkFg5BOqMPyDf6GWaNc4/Ec1ZRTXo8D+tsJMoZVfMP9Kbvwf1kvA/t14TnFcrsT98NwN1kKDRP899yQ7wbdE/p43+VwPx4z+33kvRzh7VP8TEFNWD6de/2iTllsIb0j89X21EL8y2Pw0kQhu5t8w/9ARG5kBd4j/djFDrsj/dv+SA0gDGJNA/4l8IKHdz8j/+oUp+m+/WP1735HGkDPQ/HuKIxsts9z//RPpdThD0P5NitwdQKu8/9oqkmmBE9T9kfP3wHsDyP+D2a9zEx/E/LDazatUo8z+cvvFQw4ztP+JfCCh3c/I/TNVbMZXv+D872SvtkrLuPw==\",\"dtype\":\"float64\",\"order\":\"little\",\"shape\":[53]},\"A_1\":{\"__ndarray__\":\"ls0hw3Uh/L9/AFcJ4hrLv/UVlNb76eK/aZSza/eU/b/HjGFUCw+fP+zLA01tePC/94KEXbZDBcC49gYTsCWuv0vNqHx+XPy/2Xstxk+8x781LLY26rLbvxq+JkVKZsi/lonUeJ9N6b9l5T6HOSL6v8BAi9CC2fS/tgipiLWp2r9Kr8dW+Rvuv+fFU70Krdq/+DbCViNBsL9lGdg+X7fMv2sFEZBX6vC/b8J8cXkE+b9x1i92nSz5v0WekB1e1Oi/EC0SzX5h5L+Cbj2aaPnRv7yLs++KR/a/mMdo/yc3y79DZwsN7Ub1vysJ/oM76fG/6sUd1SI0nD9r68QlE6Xvv9LC5Ku5JADAqEs7dJBT67+wjkY+Z2PGv1T2R1TcWdi/eTq1mhitw7+5+86JpaH4v6l6HI5KEeO/UQhbdkNx5r9Flg29Jfb4v5QxaImirfK/sq9g7els3L9VKnQyOXv7v0rNWXwPR+K/QmwdsBUn37/G2YlbzWjUv/yTgLFv8dK/UK/b9jwm6r9SAFtSILGTP1EIW3ZDcea/xFrVOlT47L9+Ciw2mtGWvw==\",\"dtype\":\"float64\",\"order\":\"little\",\"shape\":[53]},\"class\":{\"__ndarray__\":\"AQAAAAEAAAABAAAAAQAAAAEAAAABAAAAAQAAAAEAAAABAAAAAQAAAAEAAAABAAAAAQAAAAEAAAABAAAAAQAAAAEAAAABAAAAAQAAAAEAAAABAAAAAQAAAAEAAAABAAAAAQAAAAEAAAABAAAAAQAAAAEAAAABAAAAAQAAAAEAAAABAAAAAQAAAAEAAAABAAAAAQAAAAEAAAABAAAAAQAAAAEAAAABAAAAAQAAAAEAAAABAAAAAQAAAAEAAAABAAAAAQAAAAEAAAABAAAAAQAAAAEAAAA=\",\"dtype\":\"int32\",\"order\":\"little\",\"shape\":[53]}},\"selected\":{\"id\":\"1176\"},\"selection_policy\":{\"id\":\"1192\"}},\"id\":\"1175\",\"type\":\"ColumnDataSource\"},{\"attributes\":{\"angle\":{\"value\":0.0},\"fill_alpha\":{\"value\":1.0},\"fill_color\":{\"value\":\"#fc4f30\"},\"hatch_alpha\":{\"value\":1.0},\"hatch_color\":{\"value\":\"#fc4f30\"},\"hatch_scale\":{\"value\":12.0},\"hatch_weight\":{\"value\":1.0},\"line_alpha\":{\"value\":1.0},\"line_cap\":{\"value\":\"butt\"},\"line_color\":{\"value\":\"#fc4f30\"},\"line_dash\":{\"value\":[]},\"line_dash_offset\":{\"value\":0},\"line_join\":{\"value\":\"bevel\"},\"line_width\":{\"value\":1},\"marker\":{\"value\":\"circle\"},\"size\":{\"value\":5.477225575051661},\"x\":{\"field\":\"0\"},\"y\":{\"field\":\"1\"}},\"id\":\"1196\",\"type\":\"Scatter\"},{\"attributes\":{},\"id\":\"1136\",\"type\":\"PanTool\"},{\"attributes\":{\"fill_alpha\":{\"value\":0.1},\"fill_color\":{\"value\":\"#fc4f30\"},\"hatch_alpha\":{\"value\":0.1},\"hatch_color\":{\"value\":\"#fc4f30\"},\"line_alpha\":{\"value\":0.1},\"line_color\":{\"value\":\"#fc4f30\"},\"size\":{\"value\":5.477225575051661},\"x\":{\"field\":\"0\"},\"y\":{\"field\":\"1\"}},\"id\":\"1179\",\"type\":\"Scatter\"},{\"attributes\":{},\"id\":\"1139\",\"type\":\"ResetTool\"},{\"attributes\":{},\"id\":\"1123\",\"type\":\"LinearScale\"},{\"attributes\":{},\"id\":\"1137\",\"type\":\"WheelZoomTool\"},{\"attributes\":{},\"id\":\"1149\",\"type\":\"BasicTickFormatter\"},{\"attributes\":{\"click_policy\":\"mute\",\"coordinates\":null,\"group\":null,\"items\":[{\"id\":\"1173\"},{\"id\":\"1195\"},{\"id\":\"1219\"}],\"location\":[0,0],\"title\":\"class\"},\"id\":\"1172\",\"type\":\"Legend\"},{\"attributes\":{\"margin\":[5,5,5,5],\"name\":\"HSpacer01039\",\"sizing_mode\":\"stretch_width\"},\"id\":\"1235\",\"type\":\"Spacer\"}],\"root_ids\":[\"1111\"]},\"title\":\"Bokeh Application\",\"version\":\"2.4.3\"}};\n",
       "    var render_items = [{\"docid\":\"506df5a4-a5de-4ce6-8494-be027d573882\",\"root_ids\":[\"1111\"],\"roots\":{\"1111\":\"02a4f5e6-6d74-404d-95b3-26818e70c623\"}}];\n",
       "    root.Bokeh.embed.embed_items_notebook(docs_json, render_items);\n",
       "    for (const render_item of render_items) {\n",
       "      for (const root_id of render_item.root_ids) {\n",
       "\tconst id_el = document.getElementById(root_id)\n",
       "\tif (id_el.children.length && (id_el.children[0].className === 'bk-root')) {\n",
       "\t  const root_el = id_el.children[0]\n",
       "\t  root_el.id = root_el.id + '-rendered'\n",
       "\t}\n",
       "      }\n",
       "    }\n",
       "  }\n",
       "  if (root.Bokeh !== undefined && root.Bokeh.Panel !== undefined) {\n",
       "    embed_document(root);\n",
       "  } else {\n",
       "    var attempts = 0;\n",
       "    var timer = setInterval(function(root) {\n",
       "      if (root.Bokeh !== undefined && root.Bokeh.Panel !== undefined) {\n",
       "        clearInterval(timer);\n",
       "        embed_document(root);\n",
       "      } else if (document.readyState == \"complete\") {\n",
       "        attempts++;\n",
       "        if (attempts > 200) {\n",
       "          clearInterval(timer);\n",
       "          console.log(\"Bokeh: ERROR: Unable to run BokehJS code because BokehJS library is missing\");\n",
       "        }\n",
       "      }\n",
       "    }, 25, root)\n",
       "  }\n",
       "})(window);</script>"
      ],
      "text/plain": [
       ":NdOverlay   [class]\n",
       "   :Scatter   [0]   (1,class)"
      ]
     },
     "execution_count": 23,
     "metadata": {
      "application/vnd.holoviews_exec.v0+json": {
       "id": "1111"
      }
     },
     "output_type": "execute_result"
    }
   ],
   "source": [
    "df_iris_pca.hvplot.scatter(\n",
    "    x=\"0\",\n",
    "    y=\"1\",\n",
    "    hover_cols=[\"class\"],\n",
    "    by=\"class\",\n",
    ")"
   ]
  },
  {
   "cell_type": "code",
   "execution_count": null,
   "id": "3331775d",
   "metadata": {},
   "outputs": [],
   "source": []
  }
 ],
 "metadata": {
  "kernelspec": {
   "display_name": "mlenv",
   "language": "python",
   "name": "mlenv"
  },
  "language_info": {
   "codemirror_mode": {
    "name": "ipython",
    "version": 3
   },
   "file_extension": ".py",
   "mimetype": "text/x-python",
   "name": "python",
   "nbconvert_exporter": "python",
   "pygments_lexer": "ipython3",
   "version": "3.7.15"
  }
 },
 "nbformat": 4,
 "nbformat_minor": 5
}
